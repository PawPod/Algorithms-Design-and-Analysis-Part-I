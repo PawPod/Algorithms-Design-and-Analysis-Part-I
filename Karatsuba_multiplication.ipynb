{
  "nbformat": 4,
  "nbformat_minor": 0,
  "metadata": {
    "colab": {
      "name": "Karatsuba multiplication.ipynb",
      "provenance": [],
      "collapsed_sections": []
    },
    "kernelspec": {
      "name": "python3",
      "display_name": "Python 3"
    }
  },
  "cells": [
    {
      "cell_type": "code",
      "metadata": {
        "id": "hl4VvPFbmllI"
      },
      "source": [
        "from math import ceil, floor\n",
        "# math.ceil(x) Return the ceiling of x as a float, the smallest integer value greater than or equal to x.\n",
        "# math.floor(x) Return the floor of x as a float, the largest integer value less than or equal to x.\n",
        "\n",
        "def karatsuba(x,y):\n",
        "    # base case\n",
        "    if x < 10 and y < 10:    # in other words, if x and y are single digits\n",
        "        return x*y\n",
        "\n",
        "    n = max(len(str(x)), len(str(y)))\n",
        "    m = ceil(n/2)    # Cast n into a float because n might lie outside the representable range of integers.\n",
        "\n",
        "    x_H  = floor(x / 10**m)\n",
        "    x_L = x % (10**m)\n",
        "\n",
        "    y_H = floor(y / 10**m)\n",
        "    y_L = y % (10**m)\n",
        "\n",
        "    # recursive steps\n",
        "    a = karatsuba(x_H,y_H)\n",
        "    d = karatsuba(x_L,y_L)\n",
        "    e = karatsuba(x_H + x_L, y_H + y_L) - a - d\n",
        "\n",
        "    return int(a*(10**(m*2)) + e*(10**m) + d)\n",
        "\n",
        "#print(karatsuba(12,12))"
      ],
      "execution_count": null,
      "outputs": []
    }
  ]
}